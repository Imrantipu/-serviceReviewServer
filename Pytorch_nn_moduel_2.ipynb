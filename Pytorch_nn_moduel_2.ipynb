{
  "nbformat": 4,
  "nbformat_minor": 0,
  "metadata": {
    "colab": {
      "provenance": [],
      "authorship_tag": "ABX9TyPTSZaSGILx+xbyqZjG7srW",
      "include_colab_link": true
    },
    "kernelspec": {
      "name": "python3",
      "display_name": "Python 3"
    },
    "language_info": {
      "name": "python"
    }
  },
  "cells": [
    {
      "cell_type": "markdown",
      "metadata": {
        "id": "view-in-github",
        "colab_type": "text"
      },
      "source": [
        "<a href=\"https://colab.research.google.com/github/Imrantipu/-serviceReviewServer/blob/main/Pytorch_nn_moduel_2.ipynb\" target=\"_parent\"><img src=\"https://colab.research.google.com/assets/colab-badge.svg\" alt=\"Open In Colab\"/></a>"
      ]
    },
    {
      "cell_type": "code",
      "source": [
        "# create model class\n",
        "import torch\n",
        "import torch.nn as nn\n",
        "\n",
        "class Model(nn.Module):\n",
        "    def __init__(self, num_features):\n",
        "        super().__init__()\n",
        "        self.network = nn.Sequential(\n",
        "        nn.Linear(num_features, 3),  # 3 is the neuron in the first layer\n",
        "        nn.ReLU(),\n",
        "        nn.Linear(3, 1),  # 1 is the neuron in the second layer\n",
        "        nn.Sigmoid()\n",
        "        )\n",
        "\n",
        "    def forward(self, features):\n",
        "      out = self.network(features)\n",
        "      return out\n",
        ""
      ],
      "metadata": {
        "id": "Lxsr6vlUn6J-"
      },
      "execution_count": 27,
      "outputs": []
    },
    {
      "cell_type": "code",
      "source": [
        "#create dataset\n",
        "features = torch.rand(10,5)\n",
        "\n",
        "#create model\n",
        "model = Model(features.shape[1])\n",
        "\n",
        "#call model for forward pass\n",
        "#model.forward(features)\n",
        "model(features)  # magic method to call forward method inside Model class"
      ],
      "metadata": {
        "colab": {
          "base_uri": "https://localhost:8080/"
        },
        "id": "z5DfAs4vxPn9",
        "outputId": "02138495-f12c-46c4-8b80-dcc1be6b72c5"
      },
      "execution_count": 28,
      "outputs": [
        {
          "output_type": "execute_result",
          "data": {
            "text/plain": [
              "tensor([[0.5707],\n",
              "        [0.5815],\n",
              "        [0.5827],\n",
              "        [0.5782],\n",
              "        [0.5827],\n",
              "        [0.5827],\n",
              "        [0.5794],\n",
              "        [0.5827],\n",
              "        [0.5827],\n",
              "        [0.5827]], grad_fn=<SigmoidBackward0>)"
            ]
          },
          "metadata": {},
          "execution_count": 28
        }
      ]
    },
    {
      "cell_type": "code",
      "source": [
        "#show model weights\n",
        "#model.linear1.weight"
      ],
      "metadata": {
        "id": "262ea00Z1v12"
      },
      "execution_count": 29,
      "outputs": []
    },
    {
      "cell_type": "code",
      "source": [
        "#show model bias\n",
        "#model.linear1.bias"
      ],
      "metadata": {
        "id": "vAMopAME2KS2"
      },
      "execution_count": 30,
      "outputs": []
    },
    {
      "cell_type": "code",
      "source": [
        "#for visualizing the network\n",
        "!pip install torchinfo\n",
        "\n"
      ],
      "metadata": {
        "colab": {
          "base_uri": "https://localhost:8080/"
        },
        "id": "rb2c1UOL2miB",
        "outputId": "0f5833c8-ca27-4689-ff09-93d0a65e950d"
      },
      "execution_count": 31,
      "outputs": [
        {
          "output_type": "stream",
          "name": "stdout",
          "text": [
            "Requirement already satisfied: torchinfo in /usr/local/lib/python3.11/dist-packages (1.8.0)\n"
          ]
        }
      ]
    },
    {
      "cell_type": "code",
      "source": [
        "from torchinfo import summary\n",
        "summary(model, input_size=(10,5))"
      ],
      "metadata": {
        "colab": {
          "base_uri": "https://localhost:8080/"
        },
        "id": "5EU8I70C2_lj",
        "outputId": "b85e2492-e724-4cec-86a1-c1df1a6b8d35"
      },
      "execution_count": 32,
      "outputs": [
        {
          "output_type": "execute_result",
          "data": {
            "text/plain": [
              "==========================================================================================\n",
              "Layer (type:depth-idx)                   Output Shape              Param #\n",
              "==========================================================================================\n",
              "Model                                    [10, 1]                   --\n",
              "├─Sequential: 1-1                        [10, 1]                   --\n",
              "│    └─Linear: 2-1                       [10, 3]                   18\n",
              "│    └─ReLU: 2-2                         [10, 3]                   --\n",
              "│    └─Linear: 2-3                       [10, 1]                   4\n",
              "│    └─Sigmoid: 2-4                      [10, 1]                   --\n",
              "==========================================================================================\n",
              "Total params: 22\n",
              "Trainable params: 22\n",
              "Non-trainable params: 0\n",
              "Total mult-adds (Units.MEGABYTES): 0.00\n",
              "==========================================================================================\n",
              "Input size (MB): 0.00\n",
              "Forward/backward pass size (MB): 0.00\n",
              "Params size (MB): 0.00\n",
              "Estimated Total Size (MB): 0.00\n",
              "=========================================================================================="
            ]
          },
          "metadata": {},
          "execution_count": 32
        }
      ]
    }
  ]
}