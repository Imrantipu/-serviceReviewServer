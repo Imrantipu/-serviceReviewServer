{
  "nbformat": 4,
  "nbformat_minor": 0,
  "metadata": {
    "colab": {
      "provenance": [],
      "gpuType": "T4",
      "authorship_tag": "ABX9TyNuIBAcwLCbQ2mT1TGmSFmS",
      "include_colab_link": true
    },
    "kernelspec": {
      "name": "python3",
      "display_name": "Python 3"
    },
    "language_info": {
      "name": "python"
    },
    "accelerator": "GPU"
  },
  "cells": [
    {
      "cell_type": "markdown",
      "metadata": {
        "id": "view-in-github",
        "colab_type": "text"
      },
      "source": [
        "<a href=\"https://colab.research.google.com/github/Imrantipu/-serviceReviewServer/blob/main/cnn_fashion_mnist_gpu_ipynb1.ipynb\" target=\"_parent\"><img src=\"https://colab.research.google.com/assets/colab-badge.svg\" alt=\"Open In Colab\"/></a>"
      ]
    },
    {
      "cell_type": "code",
      "execution_count": 88,
      "metadata": {
        "id": "F-DJICfb8TD7"
      },
      "outputs": [],
      "source": [
        "# Import necessary libraries\n",
        "import pandas as pd\n",
        "from sklearn.model_selection import train_test_split\n",
        "import torch\n",
        "from torch.utils.data import Dataset, DataLoader\n",
        "import torch.nn as nn\n",
        "import torch.optim as optim\n",
        "from torch.optim.lr_scheduler import StepLR\n",
        "import matplotlib.pyplot as plt\n",
        "from torchvision import transforms  # For data augmentation"
      ]
    },
    {
      "cell_type": "code",
      "source": [
        "# Set random seeds for reproducibility\n",
        "torch.manual_seed(42)"
      ],
      "metadata": {
        "colab": {
          "base_uri": "https://localhost:8080/"
        },
        "id": "DqdjPkYY8vy1",
        "outputId": "09016258-6145-4d09-f943-a6f216da76e0"
      },
      "execution_count": 89,
      "outputs": [
        {
          "output_type": "execute_result",
          "data": {
            "text/plain": [
              "<torch._C.Generator at 0x7b61fab26550>"
            ]
          },
          "metadata": {},
          "execution_count": 89
        }
      ]
    },
    {
      "cell_type": "code",
      "source": [
        "# Check for GPU availability and set the device\n",
        "device = torch.device('cuda' if torch.cuda.is_available() else 'cpu')\n",
        "print(f\"Using device: {device}\")\n"
      ],
      "metadata": {
        "colab": {
          "base_uri": "https://localhost:8080/"
        },
        "id": "zQw5YZWD8zef",
        "outputId": "96db359c-b4d3-47a1-cd6c-dd87a07d33fe"
      },
      "execution_count": 90,
      "outputs": [
        {
          "output_type": "stream",
          "name": "stdout",
          "text": [
            "Using device: cuda\n"
          ]
        }
      ]
    },
    {
      "cell_type": "code",
      "source": [
        "# Load the dataset from a CSV file\n",
        "try:\n",
        "    df = pd.read_csv(\"fmnist_small.csv\")  # Load the dataset\n",
        "    print(df.head())  # Display the first few rows\n",
        "except Exception as e:\n",
        "    print(f\"Error reading CSV: {e}\")"
      ],
      "metadata": {
        "colab": {
          "base_uri": "https://localhost:8080/"
        },
        "id": "2DHctUwW85hu",
        "outputId": "488ec4c1-b58b-40ef-bf47-e1d509e340e3"
      },
      "execution_count": 91,
      "outputs": [
        {
          "output_type": "stream",
          "name": "stdout",
          "text": [
            "   label  pixel1  pixel2  pixel3  pixel4  pixel5  pixel6  pixel7  pixel8  \\\n",
            "0      9       0       0       0       0       0       0       0       0   \n",
            "1      7       0       0       0       0       0       0       0       0   \n",
            "2      0       0       0       0       0       0       1       0       0   \n",
            "3      8       0       0       0       0       0       0       0       0   \n",
            "4      8       0       0       0       0       0       0       0       0   \n",
            "\n",
            "   pixel9  ...  pixel775  pixel776  pixel777  pixel778  pixel779  pixel780  \\\n",
            "0       0  ...         0         7         0        50       205       196   \n",
            "1       0  ...         0         0         0         0         0         0   \n",
            "2       0  ...       142       142       142        21         0         3   \n",
            "3       0  ...         0         0         0         0         0         0   \n",
            "4       0  ...       213       203       174       151       188        10   \n",
            "\n",
            "   pixel781  pixel782  pixel783  pixel784  \n",
            "0       213       165         0         0  \n",
            "1         0         0         0         0  \n",
            "2         0         0         0         0  \n",
            "3         0         0         0         0  \n",
            "4         0         0         0         0  \n",
            "\n",
            "[5 rows x 785 columns]\n"
          ]
        }
      ]
    },
    {
      "cell_type": "code",
      "source": [
        "print(df.shape)  # Print the shape of the dataset"
      ],
      "metadata": {
        "colab": {
          "base_uri": "https://localhost:8080/"
        },
        "id": "hnyMr2yt98hE",
        "outputId": "685bc7a7-de99-4cac-f579-edb72367b626"
      },
      "execution_count": 92,
      "outputs": [
        {
          "output_type": "stream",
          "name": "stdout",
          "text": [
            "(6000, 785)\n"
          ]
        }
      ]
    },
    {
      "cell_type": "code",
      "source": [
        "# Create a 4x4 grid of images to visualize the first 16 images\n",
        "fig, axes = plt.subplots(4, 4, figsize=(10, 10))\n",
        "fig.suptitle(\"First 16 Images\", fontsize=16)\n",
        "\n",
        "# Plot the first 16 images from the dataset\n",
        "for i, ax in enumerate(axes.flat):\n",
        "    img = df.iloc[i, 1:].values.reshape(28, 28)  # Reshape to 28x28\n",
        "    ax.imshow(img, cmap='gray')  # Display in grayscale\n",
        "    ax.axis('off')  # Remove axis\n",
        "    ax.set_title(f\"Label: {df.iloc[i, 0]}\")  # Show the label\n",
        "\n",
        "plt.tight_layout(rect=[0, 0, 1, 0.96])\n",
        "# plt.show()  # Uncomment to display the plot"
      ],
      "metadata": {
        "colab": {
          "base_uri": "https://localhost:8080/",
          "height": 1000
        },
        "id": "4BWOHya2-E82",
        "outputId": "6b938614-832c-4680-ff6a-3e33148dd722"
      },
      "execution_count": 93,
      "outputs": [
        {
          "output_type": "display_data",
          "data": {
            "text/plain": [
              "<Figure size 1000x1000 with 16 Axes>"
            ],
            "image/png": "[encoded data removed]"
          },
          "metadata": {}
        }
      ]
    },
    {
      "cell_type": "code",
      "source": [
        "# Split the dataset into training and testing sets\n",
        "X = df.iloc[:, 1:].values  # Features (pixel values)\n",
        "y = df.iloc[:, 0].values  # Labels (class labels)\n",
        "X_train, X_test, y_train, y_test = train_test_split(X, y, test_size=0.2, random_state=42)\n",
        "\n",
        "# Normalize the pixel values to the range [0, 1]\n",
        "X_train = X_train / 255.0\n",
        "X_test = X_test / 255.0"
      ],
      "metadata": {
        "id": "ZPsaRC_jBLtH"
      },
      "execution_count": 94,
      "outputs": []
    },
    {
      "cell_type": "code",
      "source": [
        "# Define data augmentation transformations\n",
        "transform = transforms.Compose([\n",
        "    transforms.ToPILImage(),  # Convert tensor to PIL image for augmentation\n",
        "    transforms.RandomHorizontalFlip(),  # Randomly flip images horizontally\n",
        "    transforms.RandomRotation(10),  # Randomly rotate images by +/- 10 degrees\n",
        "    transforms.ToTensor()  # Convert back to tensor\n",
        "])"
      ],
      "metadata": {
        "id": "uv-4f9c0KVyd"
      },
      "execution_count": 95,
      "outputs": []
    },
    {
      "cell_type": "code",
      "source": [
        "# Define a custom Dataset class\n",
        "class CustomDataset(Dataset):\n",
        "    def __init__(self, features, labels, transform=None):\n",
        "        self.features = torch.tensor(features, dtype=torch.float32).reshape(-1, 1, 28, 28)\n",
        "        self.labels = torch.tensor(labels, dtype=torch.long)\n",
        "        self.transform = transform  # Data augmentation\n",
        "\n",
        "    def __len__(self):\n",
        "        return len(self.features)\n",
        "\n",
        "    def __getitem__(self, index):\n",
        "        img = self.features[index]\n",
        "        if self.transform:\n",
        "            img = self.transform(img.squeeze(0))  # Apply transformations\n",
        "        return img, self.labels[index]"
      ],
      "metadata": {
        "id": "LcXzzutKBinV"
      },
      "execution_count": 96,
      "outputs": []
    },
    {
      "cell_type": "code",
      "source": [
        "# Create training and testing datasets with data augmentation for training\n",
        "train_dataset = CustomDataset(X_train, y_train, transform=transform)\n",
        "test_dataset = CustomDataset(X_test, y_test)\n",
        "\n",
        "# Create DataLoader objects for batching and shuffling\n",
        "train_loader = DataLoader(train_dataset, batch_size=64, shuffle=True, pin_memory=True)  # Increased batch size\n",
        "test_loader = DataLoader(test_dataset, batch_size=64, shuffle=False, pin_memory=True)\n"
      ],
      "metadata": {
        "id": "_eng_dVkBmlb"
      },
      "execution_count": 97,
      "outputs": []
    },
    {
      "cell_type": "code",
      "source": [
        "# Define an improved neural network architecture\n",
        "class MyNN(nn.Module):\n",
        "    def __init__(self, input_features):\n",
        "        super().__init__()\n",
        "        # Feature extraction layers\n",
        "        self.features = nn.Sequential(\n",
        "            nn.Conv2d(input_features, 32, kernel_size=3, padding='same'),\n",
        "            nn.ReLU(),\n",
        "            nn.BatchNorm2d(32),\n",
        "            nn.MaxPool2d(kernel_size=2, stride=2),\n",
        "\n",
        "            nn.Conv2d(32, 64, kernel_size=3, padding='same'),\n",
        "            nn.ReLU(),\n",
        "            nn.BatchNorm2d(64),\n",
        "            nn.MaxPool2d(kernel_size=2, stride=2),\n",
        "\n",
        "            nn.Conv2d(64, 128, kernel_size=3, padding='same'),  # Additional layer\n",
        "            nn.ReLU(),\n",
        "            nn.BatchNorm2d(128),\n",
        "            nn.MaxPool2d(kernel_size=2, stride=2)\n",
        "        )\n",
        "        # Classifier layers\n",
        "        self.classifier = nn.Sequential(\n",
        "            nn.Flatten(),\n",
        "            nn.Linear(128 * 3 * 3, 256),  # Adjusted input size\n",
        "            nn.ReLU(),\n",
        "            nn.Dropout(p=0.4),\n",
        "\n",
        "            nn.Linear(256, 128),\n",
        "            nn.ReLU(),\n",
        "            nn.Dropout(p=0.4),\n",
        "\n",
        "            nn.Linear(128, 10)\n",
        "    )\n",
        "\n",
        "    def forward(self, x):\n",
        "        x = self.features(x)\n",
        "        x = self.classifier(x)\n",
        "        return x\n"
      ],
      "metadata": {
        "id": "gVfCtaN7Btvx"
      },
      "execution_count": 98,
      "outputs": []
    },
    {
      "cell_type": "code",
      "source": [
        "# Set hyperparameters\n",
        "learning_rate = 0.001  # Reduced learning rate\n",
        "epochs = 100  # Increased number of epochs"
      ],
      "metadata": {
        "id": "kD3EmK8uBxYi"
      },
      "execution_count": 99,
      "outputs": []
    },
    {
      "cell_type": "code",
      "source": [
        "# Initialize the model and move it to the device\n",
        "model = MyNN(1)\n",
        "model.to(device)\n",
        "\n",
        "# Define the loss function and optimizer (Adam for better convergence)\n",
        "criterion = nn.CrossEntropyLoss()\n",
        "optimizer = optim.Adam(model.parameters(), lr=learning_rate, weight_decay=1e-4)\n",
        "\n",
        "# Add a learning rate scheduler\n",
        "scheduler = StepLR(optimizer, step_size=5, gamma=0.1)  # Reduce LR by 0.1 every 5 epochs"
      ],
      "metadata": {
        "id": "CsUBGvJsB1Bu"
      },
      "execution_count": 100,
      "outputs": []
    },
    {
      "cell_type": "code",
      "source": [
        "# Training loop with early stopping\n",
        "best_accuracy = 0\n",
        "patience = 3  # Number of epochs to wait before stopping\n",
        "epochs_without_improvement = 0"
      ],
      "metadata": {
        "id": "NiRug8_bL5dB"
      },
      "execution_count": 101,
      "outputs": []
    },
    {
      "cell_type": "code",
      "source": [
        "for epoch in range(epochs):\n",
        "    model.train()  # Set model to training mode\n",
        "    total_epoch_loss = 0\n",
        "\n",
        "    for batch_features, batch_labels in train_loader:\n",
        "        batch_features, batch_labels = batch_features.to(device), batch_labels.to(device)\n",
        "\n",
        "        # Forward pass\n",
        "        outputs = model(batch_features)\n",
        "        loss = criterion(outputs, batch_labels)\n",
        "\n",
        "        # Backward pass and optimization\n",
        "        optimizer.zero_grad()\n",
        "        loss.backward()\n",
        "        optimizer.step()\n",
        "\n",
        "        total_epoch_loss += loss.item()\n",
        "\n",
        "    # Calculate average loss for the epoch\n",
        "    avg_loss = total_epoch_loss / len(train_loader)\n",
        "    print(f'Epoch: {epoch + 1}, Loss: {avg_loss}')\n",
        "\n",
        "    # Evaluation on test data\n",
        "    model.eval()  # Set model to evaluation mode\n",
        "    total = 0\n",
        "    correct = 0\n",
        "\n",
        "    with torch.no_grad():\n",
        "        for batch_features, batch_labels in test_loader:\n",
        "            batch_features, batch_labels = batch_features.to(device), batch_labels.to(device)\n",
        "\n",
        "            outputs = model(batch_features)\n",
        "            _, predicted = torch.max(outputs, 1)\n",
        "\n",
        "            total += batch_labels.shape[0]\n",
        "            correct += (predicted == batch_labels).sum().item()\n",
        "\n",
        "    test_accuracy = correct / total\n",
        "    print(f'Test Accuracy: {test_accuracy}')\n",
        "\n",
        "    # Early stopping logic\n",
        "    if test_accuracy > best_accuracy:\n",
        "        best_accuracy = test_accuracy\n",
        "        epochs_without_improvement = 0\n",
        "        torch.save(model.state_dict(), \"best_model.pth\")  # Save the best model\n",
        "    else:\n",
        "        epochs_without_improvement += 1\n",
        "\n",
        "    if epochs_without_improvement >= patience:\n",
        "        print(\"Early stopping triggered!\")\n",
        "        break\n",
        "\n",
        "    # Step the learning rate scheduler\n",
        "    scheduler.step()"
      ],
      "metadata": {
        "colab": {
          "base_uri": "https://localhost:8080/"
        },
        "id": "15mNdQ2WOuJj",
        "outputId": "ae65e65c-4dc3-4f0c-b4de-7e5585b3b478"
      },
      "execution_count": 102,
      "outputs": [
        {
          "output_type": "stream",
          "name": "stdout",
          "text": [
            "Epoch: 1, Loss: 1.0613638869921367\n",
            "Test Accuracy: 0.7491666666666666\n",
            "Epoch: 2, Loss: 0.6440697538852692\n",
            "Test Accuracy: 0.8233333333333334\n",
            "Epoch: 3, Loss: 0.5431059074401855\n",
            "Test Accuracy: 0.8191666666666667\n",
            "Epoch: 4, Loss: 0.4699654253323873\n",
            "Test Accuracy: 0.8366666666666667\n",
            "Epoch: 5, Loss: 0.440379058321317\n",
            "Test Accuracy: 0.8425\n",
            "Epoch: 6, Loss: 0.3590499303738276\n",
            "Test Accuracy: 0.8475\n",
            "Epoch: 7, Loss: 0.33394248843193053\n",
            "Test Accuracy: 0.8508333333333333\n",
            "Epoch: 8, Loss: 0.3273576237758001\n",
            "Test Accuracy: 0.8516666666666667\n",
            "Epoch: 9, Loss: 0.3088418757915497\n",
            "Test Accuracy: 0.8608333333333333\n",
            "Epoch: 10, Loss: 0.31084774116675057\n",
            "Test Accuracy: 0.8625\n",
            "Epoch: 11, Loss: 0.2959610835711161\n",
            "Test Accuracy: 0.8616666666666667\n",
            "Epoch: 12, Loss: 0.2939824020862579\n",
            "Test Accuracy: 0.8608333333333333\n",
            "Epoch: 13, Loss: 0.29850361903508504\n",
            "Test Accuracy: 0.86\n",
            "Early stopping triggered!\n"
          ]
        }
      ]
    },
    {
      "cell_type": "code",
      "source": [
        "# evaluation on training data\n",
        "total = 0\n",
        "correct = 0\n",
        "\n",
        "with torch.no_grad():\n",
        "\n",
        "  for batch_features, batch_labels in train_loader:\n",
        "\n",
        "    # move data to gpu\n",
        "    batch_features, batch_labels = batch_features.to(device), batch_labels.to(device)\n",
        "\n",
        "    outputs = model(batch_features)\n",
        "\n",
        "    _, predicted = torch.max(outputs, 1)\n",
        "\n",
        "    total = total + batch_labels.shape[0]\n",
        "\n",
        "    correct = correct + (predicted == batch_labels).sum().item()\n",
        "\n",
        "print(correct/total)"
      ],
      "metadata": {
        "colab": {
          "base_uri": "https://localhost:8080/"
        },
        "id": "LSQmxhMuCC97",
        "outputId": "bcede242-5f2f-4438-97cf-b70c1ce3c888"
      },
      "execution_count": 103,
      "outputs": [
        {
          "output_type": "stream",
          "name": "stdout",
          "text": [
            "0.9070833333333334\n"
          ]
        }
      ]
    }
  ]
}